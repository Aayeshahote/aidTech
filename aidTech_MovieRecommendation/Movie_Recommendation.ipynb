{
 "cells": [
  {
   "cell_type": "code",
   "execution_count": 1,
   "id": "f6cdda56",
   "metadata": {},
   "outputs": [],
   "source": [
    "import numpy as np\n",
    "import pandas as pd\n",
    "import matplotlib.pyplot as plt\n",
    "import seaborn as sns\n",
    "import sklearn\n",
    "import sklearn.preprocessing\n",
    "from scipy.sparse import csr_matrix\n",
    "from sklearn.neighbors import NearestNeighbors\n",
    "from sklearn.metrics import mean_absolute_error, mean_squared_error\n",
    "import os"
   ]
  },
  {
   "cell_type": "code",
   "execution_count": 2,
   "id": "8dea6697",
   "metadata": {},
   "outputs": [],
   "source": [
    "# Load Dataset\n",
    "mv =  pd.read_csv('movies.csv')"
   ]
  },
  {
   "cell_type": "code",
   "execution_count": 3,
   "id": "12de0750",
   "metadata": {
    "scrolled": true
   },
   "outputs": [
    {
     "data": {
      "text/html": [
       "<div>\n",
       "<style scoped>\n",
       "    .dataframe tbody tr th:only-of-type {\n",
       "        vertical-align: middle;\n",
       "    }\n",
       "\n",
       "    .dataframe tbody tr th {\n",
       "        vertical-align: top;\n",
       "    }\n",
       "\n",
       "    .dataframe thead th {\n",
       "        text-align: right;\n",
       "    }\n",
       "</style>\n",
       "<table border=\"1\" class=\"dataframe\">\n",
       "  <thead>\n",
       "    <tr style=\"text-align: right;\">\n",
       "      <th></th>\n",
       "      <th>movieId</th>\n",
       "      <th>title</th>\n",
       "      <th>genres</th>\n",
       "    </tr>\n",
       "  </thead>\n",
       "  <tbody>\n",
       "    <tr>\n",
       "      <th>0</th>\n",
       "      <td>1</td>\n",
       "      <td>Toy Story (1995)</td>\n",
       "      <td>Adventure|Animation|Children|Comedy|Fantasy</td>\n",
       "    </tr>\n",
       "    <tr>\n",
       "      <th>1</th>\n",
       "      <td>2</td>\n",
       "      <td>Jumanji (1995)</td>\n",
       "      <td>Adventure|Children|Fantasy</td>\n",
       "    </tr>\n",
       "    <tr>\n",
       "      <th>2</th>\n",
       "      <td>3</td>\n",
       "      <td>Grumpier Old Men (1995)</td>\n",
       "      <td>Comedy|Romance</td>\n",
       "    </tr>\n",
       "    <tr>\n",
       "      <th>3</th>\n",
       "      <td>4</td>\n",
       "      <td>Waiting to Exhale (1995)</td>\n",
       "      <td>Comedy|Drama|Romance</td>\n",
       "    </tr>\n",
       "    <tr>\n",
       "      <th>4</th>\n",
       "      <td>5</td>\n",
       "      <td>Father of the Bride Part II (1995)</td>\n",
       "      <td>Comedy</td>\n",
       "    </tr>\n",
       "  </tbody>\n",
       "</table>\n",
       "</div>"
      ],
      "text/plain": [
       "   movieId                               title  \\\n",
       "0        1                    Toy Story (1995)   \n",
       "1        2                      Jumanji (1995)   \n",
       "2        3             Grumpier Old Men (1995)   \n",
       "3        4            Waiting to Exhale (1995)   \n",
       "4        5  Father of the Bride Part II (1995)   \n",
       "\n",
       "                                        genres  \n",
       "0  Adventure|Animation|Children|Comedy|Fantasy  \n",
       "1                   Adventure|Children|Fantasy  \n",
       "2                               Comedy|Romance  \n",
       "3                         Comedy|Drama|Romance  \n",
       "4                                       Comedy  "
      ]
     },
     "execution_count": 3,
     "metadata": {},
     "output_type": "execute_result"
    }
   ],
   "source": [
    "mv.head()"
   ]
  },
  {
   "cell_type": "code",
   "execution_count": 4,
   "id": "eaf8649c",
   "metadata": {},
   "outputs": [],
   "source": [
    "rt = pd.read_csv(\"ratings.csv\")"
   ]
  },
  {
   "cell_type": "code",
   "execution_count": 5,
   "id": "3e156858",
   "metadata": {},
   "outputs": [
    {
     "data": {
      "text/html": [
       "<div>\n",
       "<style scoped>\n",
       "    .dataframe tbody tr th:only-of-type {\n",
       "        vertical-align: middle;\n",
       "    }\n",
       "\n",
       "    .dataframe tbody tr th {\n",
       "        vertical-align: top;\n",
       "    }\n",
       "\n",
       "    .dataframe thead th {\n",
       "        text-align: right;\n",
       "    }\n",
       "</style>\n",
       "<table border=\"1\" class=\"dataframe\">\n",
       "  <thead>\n",
       "    <tr style=\"text-align: right;\">\n",
       "      <th></th>\n",
       "      <th>userId</th>\n",
       "      <th>movieId</th>\n",
       "      <th>rating</th>\n",
       "      <th>timestamp</th>\n",
       "    </tr>\n",
       "  </thead>\n",
       "  <tbody>\n",
       "    <tr>\n",
       "      <th>0</th>\n",
       "      <td>1</td>\n",
       "      <td>1</td>\n",
       "      <td>4.0</td>\n",
       "      <td>964982703</td>\n",
       "    </tr>\n",
       "    <tr>\n",
       "      <th>1</th>\n",
       "      <td>1</td>\n",
       "      <td>3</td>\n",
       "      <td>4.0</td>\n",
       "      <td>964981247</td>\n",
       "    </tr>\n",
       "    <tr>\n",
       "      <th>2</th>\n",
       "      <td>1</td>\n",
       "      <td>6</td>\n",
       "      <td>4.0</td>\n",
       "      <td>964982224</td>\n",
       "    </tr>\n",
       "    <tr>\n",
       "      <th>3</th>\n",
       "      <td>1</td>\n",
       "      <td>47</td>\n",
       "      <td>5.0</td>\n",
       "      <td>964983815</td>\n",
       "    </tr>\n",
       "    <tr>\n",
       "      <th>4</th>\n",
       "      <td>1</td>\n",
       "      <td>50</td>\n",
       "      <td>5.0</td>\n",
       "      <td>964982931</td>\n",
       "    </tr>\n",
       "  </tbody>\n",
       "</table>\n",
       "</div>"
      ],
      "text/plain": [
       "   userId  movieId  rating  timestamp\n",
       "0       1        1     4.0  964982703\n",
       "1       1        3     4.0  964981247\n",
       "2       1        6     4.0  964982224\n",
       "3       1       47     5.0  964983815\n",
       "4       1       50     5.0  964982931"
      ]
     },
     "execution_count": 5,
     "metadata": {},
     "output_type": "execute_result"
    }
   ],
   "source": [
    "ratings_data=pd.read_csv(\"ratings.csv\")\n",
    "ratings_data.head()"
   ]
  },
  {
   "cell_type": "code",
   "execution_count": 6,
   "id": "182736ef",
   "metadata": {},
   "outputs": [
    {
     "data": {
      "text/html": [
       "<div>\n",
       "<style scoped>\n",
       "    .dataframe tbody tr th:only-of-type {\n",
       "        vertical-align: middle;\n",
       "    }\n",
       "\n",
       "    .dataframe tbody tr th {\n",
       "        vertical-align: top;\n",
       "    }\n",
       "\n",
       "    .dataframe thead th {\n",
       "        text-align: right;\n",
       "    }\n",
       "</style>\n",
       "<table border=\"1\" class=\"dataframe\">\n",
       "  <thead>\n",
       "    <tr style=\"text-align: right;\">\n",
       "      <th></th>\n",
       "      <th>userId</th>\n",
       "      <th>movieId</th>\n",
       "      <th>rating</th>\n",
       "      <th>timestamp</th>\n",
       "    </tr>\n",
       "  </thead>\n",
       "  <tbody>\n",
       "    <tr>\n",
       "      <th>0</th>\n",
       "      <td>1</td>\n",
       "      <td>1</td>\n",
       "      <td>4.0</td>\n",
       "      <td>964982703</td>\n",
       "    </tr>\n",
       "    <tr>\n",
       "      <th>1</th>\n",
       "      <td>1</td>\n",
       "      <td>3</td>\n",
       "      <td>4.0</td>\n",
       "      <td>964981247</td>\n",
       "    </tr>\n",
       "    <tr>\n",
       "      <th>2</th>\n",
       "      <td>1</td>\n",
       "      <td>6</td>\n",
       "      <td>4.0</td>\n",
       "      <td>964982224</td>\n",
       "    </tr>\n",
       "    <tr>\n",
       "      <th>3</th>\n",
       "      <td>1</td>\n",
       "      <td>47</td>\n",
       "      <td>5.0</td>\n",
       "      <td>964983815</td>\n",
       "    </tr>\n",
       "    <tr>\n",
       "      <th>4</th>\n",
       "      <td>1</td>\n",
       "      <td>50</td>\n",
       "      <td>5.0</td>\n",
       "      <td>964982931</td>\n",
       "    </tr>\n",
       "  </tbody>\n",
       "</table>\n",
       "</div>"
      ],
      "text/plain": [
       "   userId  movieId  rating  timestamp\n",
       "0       1        1     4.0  964982703\n",
       "1       1        3     4.0  964981247\n",
       "2       1        6     4.0  964982224\n",
       "3       1       47     5.0  964983815\n",
       "4       1       50     5.0  964982931"
      ]
     },
     "execution_count": 6,
     "metadata": {},
     "output_type": "execute_result"
    }
   ],
   "source": [
    "rt.head()"
   ]
  },
  {
   "cell_type": "code",
   "execution_count": 7,
   "id": "366370b7",
   "metadata": {},
   "outputs": [
    {
     "data": {
      "text/html": [
       "<div>\n",
       "<style scoped>\n",
       "    .dataframe tbody tr th:only-of-type {\n",
       "        vertical-align: middle;\n",
       "    }\n",
       "\n",
       "    .dataframe tbody tr th {\n",
       "        vertical-align: top;\n",
       "    }\n",
       "\n",
       "    .dataframe thead th {\n",
       "        text-align: right;\n",
       "    }\n",
       "</style>\n",
       "<table border=\"1\" class=\"dataframe\">\n",
       "  <thead>\n",
       "    <tr style=\"text-align: right;\">\n",
       "      <th></th>\n",
       "      <th>userId</th>\n",
       "      <th>movieId</th>\n",
       "      <th>rating</th>\n",
       "      <th>timestamp</th>\n",
       "    </tr>\n",
       "  </thead>\n",
       "  <tbody>\n",
       "    <tr>\n",
       "      <th>100831</th>\n",
       "      <td>610</td>\n",
       "      <td>166534</td>\n",
       "      <td>4.0</td>\n",
       "      <td>1493848402</td>\n",
       "    </tr>\n",
       "    <tr>\n",
       "      <th>100832</th>\n",
       "      <td>610</td>\n",
       "      <td>168248</td>\n",
       "      <td>5.0</td>\n",
       "      <td>1493850091</td>\n",
       "    </tr>\n",
       "    <tr>\n",
       "      <th>100833</th>\n",
       "      <td>610</td>\n",
       "      <td>168250</td>\n",
       "      <td>5.0</td>\n",
       "      <td>1494273047</td>\n",
       "    </tr>\n",
       "    <tr>\n",
       "      <th>100834</th>\n",
       "      <td>610</td>\n",
       "      <td>168252</td>\n",
       "      <td>5.0</td>\n",
       "      <td>1493846352</td>\n",
       "    </tr>\n",
       "    <tr>\n",
       "      <th>100835</th>\n",
       "      <td>610</td>\n",
       "      <td>170875</td>\n",
       "      <td>3.0</td>\n",
       "      <td>1493846415</td>\n",
       "    </tr>\n",
       "  </tbody>\n",
       "</table>\n",
       "</div>"
      ],
      "text/plain": [
       "        userId  movieId  rating   timestamp\n",
       "100831     610   166534     4.0  1493848402\n",
       "100832     610   168248     5.0  1493850091\n",
       "100833     610   168250     5.0  1494273047\n",
       "100834     610   168252     5.0  1493846352\n",
       "100835     610   170875     3.0  1493846415"
      ]
     },
     "execution_count": 7,
     "metadata": {},
     "output_type": "execute_result"
    }
   ],
   "source": [
    "rt.tail()"
   ]
  },
  {
   "cell_type": "code",
   "execution_count": 8,
   "id": "37cc2196",
   "metadata": {},
   "outputs": [
    {
     "data": {
      "text/plain": [
       "(100836, 4)"
      ]
     },
     "execution_count": 8,
     "metadata": {},
     "output_type": "execute_result"
    }
   ],
   "source": [
    "rt.shape"
   ]
  },
  {
   "cell_type": "code",
   "execution_count": 9,
   "id": "2ba6139d",
   "metadata": {},
   "outputs": [
    {
     "name": "stdout",
     "output_type": "stream",
     "text": [
      "<class 'pandas.core.frame.DataFrame'>\n",
      "RangeIndex: 100836 entries, 0 to 100835\n",
      "Data columns (total 4 columns):\n",
      " #   Column     Non-Null Count   Dtype  \n",
      "---  ------     --------------   -----  \n",
      " 0   userId     100836 non-null  int64  \n",
      " 1   movieId    100836 non-null  int64  \n",
      " 2   rating     100836 non-null  float64\n",
      " 3   timestamp  100836 non-null  int64  \n",
      "dtypes: float64(1), int64(3)\n",
      "memory usage: 3.1 MB\n"
     ]
    }
   ],
   "source": [
    "rt.info()"
   ]
  },
  {
   "cell_type": "code",
   "execution_count": 10,
   "id": "7ed0b667",
   "metadata": {},
   "outputs": [],
   "source": [
    "# merge Dataset \n",
    "df = mv.merge(rt, on=\"movieId\")"
   ]
  },
  {
   "cell_type": "code",
   "execution_count": 11,
   "id": "a84aa316",
   "metadata": {},
   "outputs": [
    {
     "data": {
      "text/html": [
       "<div>\n",
       "<style scoped>\n",
       "    .dataframe tbody tr th:only-of-type {\n",
       "        vertical-align: middle;\n",
       "    }\n",
       "\n",
       "    .dataframe tbody tr th {\n",
       "        vertical-align: top;\n",
       "    }\n",
       "\n",
       "    .dataframe thead th {\n",
       "        text-align: right;\n",
       "    }\n",
       "</style>\n",
       "<table border=\"1\" class=\"dataframe\">\n",
       "  <thead>\n",
       "    <tr style=\"text-align: right;\">\n",
       "      <th></th>\n",
       "      <th>movieId</th>\n",
       "      <th>title</th>\n",
       "      <th>genres</th>\n",
       "      <th>userId</th>\n",
       "      <th>rating</th>\n",
       "      <th>timestamp</th>\n",
       "    </tr>\n",
       "  </thead>\n",
       "  <tbody>\n",
       "    <tr>\n",
       "      <th>count</th>\n",
       "      <td>96693.000000</td>\n",
       "      <td>96693</td>\n",
       "      <td>96693</td>\n",
       "      <td>96693.000000</td>\n",
       "      <td>96693.000000</td>\n",
       "      <td>9.669300e+04</td>\n",
       "    </tr>\n",
       "    <tr>\n",
       "      <th>unique</th>\n",
       "      <td>NaN</td>\n",
       "      <td>7219</td>\n",
       "      <td>831</td>\n",
       "      <td>NaN</td>\n",
       "      <td>NaN</td>\n",
       "      <td>NaN</td>\n",
       "    </tr>\n",
       "    <tr>\n",
       "      <th>top</th>\n",
       "      <td>NaN</td>\n",
       "      <td>Forrest Gump (1994)</td>\n",
       "      <td>Comedy</td>\n",
       "      <td>NaN</td>\n",
       "      <td>NaN</td>\n",
       "      <td>NaN</td>\n",
       "    </tr>\n",
       "    <tr>\n",
       "      <th>freq</th>\n",
       "      <td>NaN</td>\n",
       "      <td>329</td>\n",
       "      <td>6702</td>\n",
       "      <td>NaN</td>\n",
       "      <td>NaN</td>\n",
       "      <td>NaN</td>\n",
       "    </tr>\n",
       "    <tr>\n",
       "      <th>mean</th>\n",
       "      <td>15993.980805</td>\n",
       "      <td>NaN</td>\n",
       "      <td>NaN</td>\n",
       "      <td>325.247608</td>\n",
       "      <td>3.510120</td>\n",
       "      <td>1.197274e+09</td>\n",
       "    </tr>\n",
       "    <tr>\n",
       "      <th>std</th>\n",
       "      <td>29330.123314</td>\n",
       "      <td>NaN</td>\n",
       "      <td>NaN</td>\n",
       "      <td>182.042720</td>\n",
       "      <td>1.036672</td>\n",
       "      <td>2.138318e+08</td>\n",
       "    </tr>\n",
       "    <tr>\n",
       "      <th>min</th>\n",
       "      <td>1.000000</td>\n",
       "      <td>NaN</td>\n",
       "      <td>NaN</td>\n",
       "      <td>1.000000</td>\n",
       "      <td>0.500000</td>\n",
       "      <td>8.281246e+08</td>\n",
       "    </tr>\n",
       "    <tr>\n",
       "      <th>25%</th>\n",
       "      <td>1167.000000</td>\n",
       "      <td>NaN</td>\n",
       "      <td>NaN</td>\n",
       "      <td>177.000000</td>\n",
       "      <td>3.000000</td>\n",
       "      <td>1.005967e+09</td>\n",
       "    </tr>\n",
       "    <tr>\n",
       "      <th>50%</th>\n",
       "      <td>2819.000000</td>\n",
       "      <td>NaN</td>\n",
       "      <td>NaN</td>\n",
       "      <td>325.000000</td>\n",
       "      <td>3.500000</td>\n",
       "      <td>1.179166e+09</td>\n",
       "    </tr>\n",
       "    <tr>\n",
       "      <th>75%</th>\n",
       "      <td>6967.000000</td>\n",
       "      <td>NaN</td>\n",
       "      <td>NaN</td>\n",
       "      <td>477.000000</td>\n",
       "      <td>4.000000</td>\n",
       "      <td>1.430332e+09</td>\n",
       "    </tr>\n",
       "    <tr>\n",
       "      <th>max</th>\n",
       "      <td>148626.000000</td>\n",
       "      <td>NaN</td>\n",
       "      <td>NaN</td>\n",
       "      <td>610.000000</td>\n",
       "      <td>5.000000</td>\n",
       "      <td>1.537799e+09</td>\n",
       "    </tr>\n",
       "  </tbody>\n",
       "</table>\n",
       "</div>"
      ],
      "text/plain": [
       "              movieId                title  genres        userId  \\\n",
       "count    96693.000000                96693   96693  96693.000000   \n",
       "unique            NaN                 7219     831           NaN   \n",
       "top               NaN  Forrest Gump (1994)  Comedy           NaN   \n",
       "freq              NaN                  329    6702           NaN   \n",
       "mean     15993.980805                  NaN     NaN    325.247608   \n",
       "std      29330.123314                  NaN     NaN    182.042720   \n",
       "min          1.000000                  NaN     NaN      1.000000   \n",
       "25%       1167.000000                  NaN     NaN    177.000000   \n",
       "50%       2819.000000                  NaN     NaN    325.000000   \n",
       "75%       6967.000000                  NaN     NaN    477.000000   \n",
       "max     148626.000000                  NaN     NaN    610.000000   \n",
       "\n",
       "              rating     timestamp  \n",
       "count   96693.000000  9.669300e+04  \n",
       "unique           NaN           NaN  \n",
       "top              NaN           NaN  \n",
       "freq             NaN           NaN  \n",
       "mean        3.510120  1.197274e+09  \n",
       "std         1.036672  2.138318e+08  \n",
       "min         0.500000  8.281246e+08  \n",
       "25%         3.000000  1.005967e+09  \n",
       "50%         3.500000  1.179166e+09  \n",
       "75%         4.000000  1.430332e+09  \n",
       "max         5.000000  1.537799e+09  "
      ]
     },
     "execution_count": 11,
     "metadata": {},
     "output_type": "execute_result"
    }
   ],
   "source": [
    "df.describe(include = 'all')"
   ]
  },
  {
   "cell_type": "code",
   "execution_count": 12,
   "id": "a530313a",
   "metadata": {},
   "outputs": [
    {
     "data": {
      "text/html": [
       "<div>\n",
       "<style scoped>\n",
       "    .dataframe tbody tr th:only-of-type {\n",
       "        vertical-align: middle;\n",
       "    }\n",
       "\n",
       "    .dataframe tbody tr th {\n",
       "        vertical-align: top;\n",
       "    }\n",
       "\n",
       "    .dataframe thead th {\n",
       "        text-align: right;\n",
       "    }\n",
       "</style>\n",
       "<table border=\"1\" class=\"dataframe\">\n",
       "  <thead>\n",
       "    <tr style=\"text-align: right;\">\n",
       "      <th></th>\n",
       "      <th>title</th>\n",
       "      <th>genres</th>\n",
       "    </tr>\n",
       "  </thead>\n",
       "  <tbody>\n",
       "    <tr>\n",
       "      <th>count</th>\n",
       "      <td>96693</td>\n",
       "      <td>96693</td>\n",
       "    </tr>\n",
       "    <tr>\n",
       "      <th>unique</th>\n",
       "      <td>7219</td>\n",
       "      <td>831</td>\n",
       "    </tr>\n",
       "    <tr>\n",
       "      <th>top</th>\n",
       "      <td>Forrest Gump (1994)</td>\n",
       "      <td>Comedy</td>\n",
       "    </tr>\n",
       "    <tr>\n",
       "      <th>freq</th>\n",
       "      <td>329</td>\n",
       "      <td>6702</td>\n",
       "    </tr>\n",
       "  </tbody>\n",
       "</table>\n",
       "</div>"
      ],
      "text/plain": [
       "                      title  genres\n",
       "count                 96693   96693\n",
       "unique                 7219     831\n",
       "top     Forrest Gump (1994)  Comedy\n",
       "freq                    329    6702"
      ]
     },
     "execution_count": 12,
     "metadata": {},
     "output_type": "execute_result"
    }
   ],
   "source": [
    "df.describe(include = 'object')"
   ]
  },
  {
   "cell_type": "code",
   "execution_count": 13,
   "id": "866ddd2c",
   "metadata": {},
   "outputs": [
    {
     "data": {
      "text/plain": [
       "(96693, 6)"
      ]
     },
     "execution_count": 13,
     "metadata": {},
     "output_type": "execute_result"
    }
   ],
   "source": [
    "# after merge check shape\n",
    "df.shape"
   ]
  },
  {
   "cell_type": "code",
   "execution_count": 14,
   "id": "3770c3ff",
   "metadata": {},
   "outputs": [
    {
     "data": {
      "text/html": [
       "<div>\n",
       "<style scoped>\n",
       "    .dataframe tbody tr th:only-of-type {\n",
       "        vertical-align: middle;\n",
       "    }\n",
       "\n",
       "    .dataframe tbody tr th {\n",
       "        vertical-align: top;\n",
       "    }\n",
       "\n",
       "    .dataframe thead th {\n",
       "        text-align: right;\n",
       "    }\n",
       "</style>\n",
       "<table border=\"1\" class=\"dataframe\">\n",
       "  <thead>\n",
       "    <tr style=\"text-align: right;\">\n",
       "      <th></th>\n",
       "      <th>movieId</th>\n",
       "      <th>userId</th>\n",
       "      <th>rating</th>\n",
       "      <th>timestamp</th>\n",
       "    </tr>\n",
       "  </thead>\n",
       "  <tbody>\n",
       "    <tr>\n",
       "      <th>count</th>\n",
       "      <td>96693.000000</td>\n",
       "      <td>96693.000000</td>\n",
       "      <td>96693.000000</td>\n",
       "      <td>9.669300e+04</td>\n",
       "    </tr>\n",
       "    <tr>\n",
       "      <th>mean</th>\n",
       "      <td>15993.980805</td>\n",
       "      <td>325.247608</td>\n",
       "      <td>3.510120</td>\n",
       "      <td>1.197274e+09</td>\n",
       "    </tr>\n",
       "    <tr>\n",
       "      <th>std</th>\n",
       "      <td>29330.123314</td>\n",
       "      <td>182.042720</td>\n",
       "      <td>1.036672</td>\n",
       "      <td>2.138318e+08</td>\n",
       "    </tr>\n",
       "    <tr>\n",
       "      <th>min</th>\n",
       "      <td>1.000000</td>\n",
       "      <td>1.000000</td>\n",
       "      <td>0.500000</td>\n",
       "      <td>8.281246e+08</td>\n",
       "    </tr>\n",
       "    <tr>\n",
       "      <th>25%</th>\n",
       "      <td>1167.000000</td>\n",
       "      <td>177.000000</td>\n",
       "      <td>3.000000</td>\n",
       "      <td>1.005967e+09</td>\n",
       "    </tr>\n",
       "    <tr>\n",
       "      <th>50%</th>\n",
       "      <td>2819.000000</td>\n",
       "      <td>325.000000</td>\n",
       "      <td>3.500000</td>\n",
       "      <td>1.179166e+09</td>\n",
       "    </tr>\n",
       "    <tr>\n",
       "      <th>75%</th>\n",
       "      <td>6967.000000</td>\n",
       "      <td>477.000000</td>\n",
       "      <td>4.000000</td>\n",
       "      <td>1.430332e+09</td>\n",
       "    </tr>\n",
       "    <tr>\n",
       "      <th>max</th>\n",
       "      <td>148626.000000</td>\n",
       "      <td>610.000000</td>\n",
       "      <td>5.000000</td>\n",
       "      <td>1.537799e+09</td>\n",
       "    </tr>\n",
       "  </tbody>\n",
       "</table>\n",
       "</div>"
      ],
      "text/plain": [
       "             movieId        userId        rating     timestamp\n",
       "count   96693.000000  96693.000000  96693.000000  9.669300e+04\n",
       "mean    15993.980805    325.247608      3.510120  1.197274e+09\n",
       "std     29330.123314    182.042720      1.036672  2.138318e+08\n",
       "min         1.000000      1.000000      0.500000  8.281246e+08\n",
       "25%      1167.000000    177.000000      3.000000  1.005967e+09\n",
       "50%      2819.000000    325.000000      3.500000  1.179166e+09\n",
       "75%      6967.000000    477.000000      4.000000  1.430332e+09\n",
       "max    148626.000000    610.000000      5.000000  1.537799e+09"
      ]
     },
     "execution_count": 14,
     "metadata": {},
     "output_type": "execute_result"
    }
   ],
   "source": [
    "df.describe(include = 'number')"
   ]
  },
  {
   "cell_type": "code",
   "execution_count": 15,
   "id": "7f79232a",
   "metadata": {},
   "outputs": [
    {
     "data": {
      "text/plain": [
       "Index(['movieId', 'title', 'genres', 'userId', 'rating', 'timestamp'], dtype='object')"
      ]
     },
     "execution_count": 15,
     "metadata": {},
     "output_type": "execute_result"
    }
   ],
   "source": [
    "df.columns"
   ]
  },
  {
   "cell_type": "code",
   "execution_count": 16,
   "id": "cacd9b36",
   "metadata": {},
   "outputs": [
    {
     "data": {
      "text/plain": [
       "movieId      0\n",
       "title        0\n",
       "genres       0\n",
       "userId       0\n",
       "rating       0\n",
       "timestamp    0\n",
       "dtype: int64"
      ]
     },
     "execution_count": 16,
     "metadata": {},
     "output_type": "execute_result"
    }
   ],
   "source": [
    "# check null values in DataFrame\n",
    "df.isna().sum()"
   ]
  },
  {
   "cell_type": "code",
   "execution_count": 17,
   "id": "b821a7ea",
   "metadata": {},
   "outputs": [
    {
     "data": {
      "text/plain": [
       "0"
      ]
     },
     "execution_count": 17,
     "metadata": {},
     "output_type": "execute_result"
    }
   ],
   "source": [
    "# check duplicate values in DataFrame\n",
    "df.duplicated().sum()"
   ]
  },
  {
   "cell_type": "code",
   "execution_count": 18,
   "id": "ed2cfe87",
   "metadata": {},
   "outputs": [
    {
     "data": {
      "text/plain": [
       "'Adventure|Animation|Children|Comedy|Fantasy'"
      ]
     },
     "execution_count": 18,
     "metadata": {},
     "output_type": "execute_result"
    }
   ],
   "source": [
    "# check 0 index values of genres in DataFrame\n",
    "df.iloc[0].genres"
   ]
  },
  {
   "cell_type": "code",
   "execution_count": 19,
   "id": "db08f5fc",
   "metadata": {},
   "outputs": [
    {
     "data": {
      "text/html": [
       "<div>\n",
       "<style scoped>\n",
       "    .dataframe tbody tr th:only-of-type {\n",
       "        vertical-align: middle;\n",
       "    }\n",
       "\n",
       "    .dataframe tbody tr th {\n",
       "        vertical-align: top;\n",
       "    }\n",
       "\n",
       "    .dataframe thead th {\n",
       "        text-align: right;\n",
       "    }\n",
       "</style>\n",
       "<table border=\"1\" class=\"dataframe\">\n",
       "  <thead>\n",
       "    <tr style=\"text-align: right;\">\n",
       "      <th></th>\n",
       "      <th>rating</th>\n",
       "      <th>total number of ratings</th>\n",
       "    </tr>\n",
       "    <tr>\n",
       "      <th>title</th>\n",
       "      <th></th>\n",
       "      <th></th>\n",
       "    </tr>\n",
       "  </thead>\n",
       "  <tbody>\n",
       "    <tr>\n",
       "      <th>'71 (2014)</th>\n",
       "      <td>4.000000</td>\n",
       "      <td>1</td>\n",
       "    </tr>\n",
       "    <tr>\n",
       "      <th>'Hellboy': The Seeds of Creation (2004)</th>\n",
       "      <td>4.000000</td>\n",
       "      <td>1</td>\n",
       "    </tr>\n",
       "    <tr>\n",
       "      <th>'Round Midnight (1986)</th>\n",
       "      <td>3.500000</td>\n",
       "      <td>2</td>\n",
       "    </tr>\n",
       "    <tr>\n",
       "      <th>'Til There Was You (1997)</th>\n",
       "      <td>4.000000</td>\n",
       "      <td>2</td>\n",
       "    </tr>\n",
       "    <tr>\n",
       "      <th>'burbs, The (1989)</th>\n",
       "      <td>3.176471</td>\n",
       "      <td>17</td>\n",
       "    </tr>\n",
       "  </tbody>\n",
       "</table>\n",
       "</div>"
      ],
      "text/plain": [
       "                                           rating  total number of ratings\n",
       "title                                                                     \n",
       "'71 (2014)                               4.000000                        1\n",
       "'Hellboy': The Seeds of Creation (2004)  4.000000                        1\n",
       "'Round Midnight (1986)                   3.500000                        2\n",
       "'Til There Was You (1997)                4.000000                        2\n",
       "'burbs, The (1989)                       3.176471                       17"
      ]
     },
     "execution_count": 19,
     "metadata": {},
     "output_type": "execute_result"
    }
   ],
   "source": [
    "# creating data frame trend with total rating and average rating\n",
    "trend=pd.DataFrame(df.groupby('title')['rating'].mean())\n",
    "trend['total number of ratings'] = pd.DataFrame(df.groupby('title')['rating'].count()) \n",
    "trend.head()"
   ]
  },
  {
   "cell_type": "code",
   "execution_count": 20,
   "id": "5dd007d0",
   "metadata": {},
   "outputs": [
    {
     "data": {
      "image/png": "[encoded data removed]",
      "text/plain": [
       "<Figure size 1000x400 with 1 Axes>"
      ]
     },
     "metadata": {},
     "output_type": "display_data"
    }
   ],
   "source": [
    "# Create a figure and axis\n",
    "plt.figure(figsize =(10, 4))\n",
    "ax=plt.subplot()\n",
    "ax.bar(trend.head(25).index,trend['total number of ratings'].head(25),color='Purple',edgecolor='green')\n",
    "\n",
    "import warnings\n",
    "\n",
    "# Suppress all UserWarnings globally\n",
    "warnings.simplefilter(\"ignore\", category=UserWarning)\n",
    "\n",
    "# Set the x-axis tick positions\n",
    "ax.set_xticklabels(trend.index,rotation=40,fontsize='12',horizontalalignment=\"right\")\n",
    "ax.set_title(\"Total Number of reviews for each movie\")\n",
    "\n",
    "# Show the plot\n",
    "plt.show()\n"
   ]
  },
  {
   "cell_type": "code",
   "execution_count": 21,
   "id": "0e2bddd5",
   "metadata": {},
   "outputs": [
    {
     "data": {
      "text/plain": [
       "title\n",
       "True Stories (1986)                                     5.0\n",
       "Chinese Puzzle (Casse-tête chinois) (2013)              5.0\n",
       "The Jinx: The Life and Deaths of Robert Durst (2015)    5.0\n",
       "Idiots and Angels (2008)                                5.0\n",
       "Bossa Nova (2000)                                       5.0\n",
       "Name: rating, dtype: float64"
      ]
     },
     "execution_count": 21,
     "metadata": {},
     "output_type": "execute_result"
    }
   ],
   "source": [
    "df.groupby('title')['rating'].mean().sort_values(ascending=False).head()"
   ]
  },
  {
   "cell_type": "code",
   "execution_count": 22,
   "id": "32c9ad23",
   "metadata": {},
   "outputs": [
    {
     "name": "stdout",
     "output_type": "stream",
     "text": [
      "object\n",
      "float64\n"
     ]
    }
   ],
   "source": [
    "# Check data types\n",
    "print(df['genres'].dtype)  # Should be a string (object)\n",
    "print(df['rating'].dtype)  # Should be a string (object)\n"
   ]
  },
  {
   "cell_type": "code",
   "execution_count": 23,
   "id": "98d1203d",
   "metadata": {},
   "outputs": [],
   "source": [
    "# Convert 'rating' column to a string\n",
    "df['rating'] = df['rating'].astype(str)"
   ]
  },
  {
   "cell_type": "code",
   "execution_count": 24,
   "id": "16639c0a",
   "metadata": {},
   "outputs": [],
   "source": [
    "# create new columns and merge columns\n",
    "df['tags']= df['genres'] + df['rating'] \n"
   ]
  },
  {
   "cell_type": "code",
   "execution_count": 25,
   "id": "cb818975",
   "metadata": {},
   "outputs": [
    {
     "data": {
      "text/html": [
       "<div>\n",
       "<style scoped>\n",
       "    .dataframe tbody tr th:only-of-type {\n",
       "        vertical-align: middle;\n",
       "    }\n",
       "\n",
       "    .dataframe tbody tr th {\n",
       "        vertical-align: top;\n",
       "    }\n",
       "\n",
       "    .dataframe thead th {\n",
       "        text-align: right;\n",
       "    }\n",
       "</style>\n",
       "<table border=\"1\" class=\"dataframe\">\n",
       "  <thead>\n",
       "    <tr style=\"text-align: right;\">\n",
       "      <th></th>\n",
       "      <th>movieId</th>\n",
       "      <th>title</th>\n",
       "      <th>genres</th>\n",
       "      <th>userId</th>\n",
       "      <th>rating</th>\n",
       "      <th>timestamp</th>\n",
       "      <th>tags</th>\n",
       "    </tr>\n",
       "  </thead>\n",
       "  <tbody>\n",
       "    <tr>\n",
       "      <th>74923</th>\n",
       "      <td>8228</td>\n",
       "      <td>Maltese Falcon, The (a.k.a. Dangerous Female) ...</td>\n",
       "      <td>Mystery</td>\n",
       "      <td>477</td>\n",
       "      <td>3.0</td>\n",
       "      <td>1200943091</td>\n",
       "      <td>Mystery3.0</td>\n",
       "    </tr>\n",
       "    <tr>\n",
       "      <th>27880</th>\n",
       "      <td>1256</td>\n",
       "      <td>Duck Soup (1933)</td>\n",
       "      <td>Comedy|Musical|War</td>\n",
       "      <td>216</td>\n",
       "      <td>3.0</td>\n",
       "      <td>975212038</td>\n",
       "      <td>Comedy|Musical|War3.0</td>\n",
       "    </tr>\n",
       "    <tr>\n",
       "      <th>95472</th>\n",
       "      <td>113532</td>\n",
       "      <td>Inbetweeners 2, The (2014)</td>\n",
       "      <td>Comedy</td>\n",
       "      <td>448</td>\n",
       "      <td>3.5</td>\n",
       "      <td>1472584520</td>\n",
       "      <td>Comedy3.5</td>\n",
       "    </tr>\n",
       "  </tbody>\n",
       "</table>\n",
       "</div>"
      ],
      "text/plain": [
       "       movieId                                              title  \\\n",
       "74923     8228  Maltese Falcon, The (a.k.a. Dangerous Female) ...   \n",
       "27880     1256                                   Duck Soup (1933)   \n",
       "95472   113532                         Inbetweeners 2, The (2014)   \n",
       "\n",
       "                   genres  userId rating   timestamp                   tags  \n",
       "74923             Mystery     477    3.0  1200943091             Mystery3.0  \n",
       "27880  Comedy|Musical|War     216    3.0   975212038  Comedy|Musical|War3.0  \n",
       "95472              Comedy     448    3.5  1472584520              Comedy3.5  "
      ]
     },
     "execution_count": 25,
     "metadata": {},
     "output_type": "execute_result"
    }
   ],
   "source": [
    "df.sample(3)"
   ]
  },
  {
   "cell_type": "code",
   "execution_count": 26,
   "id": "cfff3935",
   "metadata": {},
   "outputs": [
    {
     "name": "stdout",
     "output_type": "stream",
     "text": [
      "Index(['movieId', 'title', 'genres', 'userId', 'rating', 'timestamp', 'tags'], dtype='object')\n"
     ]
    }
   ],
   "source": [
    "# Check the column names in your DataFrame\n",
    "print(df.columns)"
   ]
  },
  {
   "cell_type": "code",
   "execution_count": 27,
   "id": "c46d7804",
   "metadata": {},
   "outputs": [],
   "source": [
    "# create new dataFrame with 3 columns\n",
    "new_df = df[['userId','title','tags']]"
   ]
  },
  {
   "cell_type": "code",
   "execution_count": 28,
   "id": "e69d6cdd",
   "metadata": {},
   "outputs": [
    {
     "data": {
      "text/html": [
       "<div>\n",
       "<style scoped>\n",
       "    .dataframe tbody tr th:only-of-type {\n",
       "        vertical-align: middle;\n",
       "    }\n",
       "\n",
       "    .dataframe tbody tr th {\n",
       "        vertical-align: top;\n",
       "    }\n",
       "\n",
       "    .dataframe thead th {\n",
       "        text-align: right;\n",
       "    }\n",
       "</style>\n",
       "<table border=\"1\" class=\"dataframe\">\n",
       "  <thead>\n",
       "    <tr style=\"text-align: right;\">\n",
       "      <th></th>\n",
       "      <th>userId</th>\n",
       "      <th>title</th>\n",
       "      <th>tags</th>\n",
       "    </tr>\n",
       "  </thead>\n",
       "  <tbody>\n",
       "    <tr>\n",
       "      <th>0</th>\n",
       "      <td>1</td>\n",
       "      <td>Toy Story (1995)</td>\n",
       "      <td>Adventure|Animation|Children|Comedy|Fantasy4.0</td>\n",
       "    </tr>\n",
       "    <tr>\n",
       "      <th>1</th>\n",
       "      <td>5</td>\n",
       "      <td>Toy Story (1995)</td>\n",
       "      <td>Adventure|Animation|Children|Comedy|Fantasy4.0</td>\n",
       "    </tr>\n",
       "    <tr>\n",
       "      <th>2</th>\n",
       "      <td>7</td>\n",
       "      <td>Toy Story (1995)</td>\n",
       "      <td>Adventure|Animation|Children|Comedy|Fantasy4.5</td>\n",
       "    </tr>\n",
       "    <tr>\n",
       "      <th>3</th>\n",
       "      <td>15</td>\n",
       "      <td>Toy Story (1995)</td>\n",
       "      <td>Adventure|Animation|Children|Comedy|Fantasy2.5</td>\n",
       "    </tr>\n",
       "    <tr>\n",
       "      <th>4</th>\n",
       "      <td>17</td>\n",
       "      <td>Toy Story (1995)</td>\n",
       "      <td>Adventure|Animation|Children|Comedy|Fantasy4.5</td>\n",
       "    </tr>\n",
       "    <tr>\n",
       "      <th>...</th>\n",
       "      <td>...</td>\n",
       "      <td>...</td>\n",
       "      <td>...</td>\n",
       "    </tr>\n",
       "    <tr>\n",
       "      <th>96688</th>\n",
       "      <td>560</td>\n",
       "      <td>The Big Short (2015)</td>\n",
       "      <td>Drama4.5</td>\n",
       "    </tr>\n",
       "    <tr>\n",
       "      <th>96689</th>\n",
       "      <td>564</td>\n",
       "      <td>The Big Short (2015)</td>\n",
       "      <td>Drama3.5</td>\n",
       "    </tr>\n",
       "    <tr>\n",
       "      <th>96690</th>\n",
       "      <td>567</td>\n",
       "      <td>The Big Short (2015)</td>\n",
       "      <td>Drama3.0</td>\n",
       "    </tr>\n",
       "    <tr>\n",
       "      <th>96691</th>\n",
       "      <td>599</td>\n",
       "      <td>The Big Short (2015)</td>\n",
       "      <td>Drama3.0</td>\n",
       "    </tr>\n",
       "    <tr>\n",
       "      <th>96692</th>\n",
       "      <td>610</td>\n",
       "      <td>The Big Short (2015)</td>\n",
       "      <td>Drama4.0</td>\n",
       "    </tr>\n",
       "  </tbody>\n",
       "</table>\n",
       "<p>96693 rows × 3 columns</p>\n",
       "</div>"
      ],
      "text/plain": [
       "       userId                 title  \\\n",
       "0           1      Toy Story (1995)   \n",
       "1           5      Toy Story (1995)   \n",
       "2           7      Toy Story (1995)   \n",
       "3          15      Toy Story (1995)   \n",
       "4          17      Toy Story (1995)   \n",
       "...       ...                   ...   \n",
       "96688     560  The Big Short (2015)   \n",
       "96689     564  The Big Short (2015)   \n",
       "96690     567  The Big Short (2015)   \n",
       "96691     599  The Big Short (2015)   \n",
       "96692     610  The Big Short (2015)   \n",
       "\n",
       "                                                 tags  \n",
       "0      Adventure|Animation|Children|Comedy|Fantasy4.0  \n",
       "1      Adventure|Animation|Children|Comedy|Fantasy4.0  \n",
       "2      Adventure|Animation|Children|Comedy|Fantasy4.5  \n",
       "3      Adventure|Animation|Children|Comedy|Fantasy2.5  \n",
       "4      Adventure|Animation|Children|Comedy|Fantasy4.5  \n",
       "...                                               ...  \n",
       "96688                                        Drama4.5  \n",
       "96689                                        Drama3.5  \n",
       "96690                                        Drama3.0  \n",
       "96691                                        Drama3.0  \n",
       "96692                                        Drama4.0  \n",
       "\n",
       "[96693 rows x 3 columns]"
      ]
     },
     "execution_count": 28,
     "metadata": {},
     "output_type": "execute_result"
    }
   ],
   "source": [
    "new_df"
   ]
  },
  {
   "cell_type": "code",
   "execution_count": 29,
   "id": "6c6ba2ba",
   "metadata": {},
   "outputs": [
    {
     "data": {
      "text/plain": [
       "'Adventure|Animation|Children|Comedy|Fantasy4.0'"
      ]
     },
     "execution_count": 29,
     "metadata": {},
     "output_type": "execute_result"
    }
   ],
   "source": [
    "# check 0 index values of tags in DataFrame\n",
    "new_df['tags'][0]"
   ]
  },
  {
   "cell_type": "code",
   "execution_count": 30,
   "id": "59fc4073",
   "metadata": {
    "scrolled": true
   },
   "outputs": [
    {
     "name": "stdout",
     "output_type": "stream",
     "text": [
      "       userId                 title  \\\n",
      "0           1      Toy Story (1995)   \n",
      "1           5      Toy Story (1995)   \n",
      "2           7      Toy Story (1995)   \n",
      "3          15      Toy Story (1995)   \n",
      "4          17      Toy Story (1995)   \n",
      "...       ...                   ...   \n",
      "96688     560  The Big Short (2015)   \n",
      "96689     564  The Big Short (2015)   \n",
      "96690     567  The Big Short (2015)   \n",
      "96691     599  The Big Short (2015)   \n",
      "96692     610  The Big Short (2015)   \n",
      "\n",
      "                                                 tags  \n",
      "0      Adventure|Animation|Children|Comedy|Fantasy4.0  \n",
      "1      Adventure|Animation|Children|Comedy|Fantasy4.0  \n",
      "2      Adventure|Animation|Children|Comedy|Fantasy4.5  \n",
      "3      Adventure|Animation|Children|Comedy|Fantasy2.5  \n",
      "4      Adventure|Animation|Children|Comedy|Fantasy4.5  \n",
      "...                                               ...  \n",
      "96688                                        Drama4.5  \n",
      "96689                                        Drama3.5  \n",
      "96690                                        Drama3.0  \n",
      "96691                                        Drama3.0  \n",
      "96692                                        Drama4.0  \n",
      "\n",
      "[96693 rows x 3 columns]\n"
     ]
    },
    {
     "name": "stderr",
     "output_type": "stream",
     "text": [
      "C:\\Users\\ayesh\\AppData\\Local\\Temp\\ipykernel_14900\\3351266085.py:2: SettingWithCopyWarning: \n",
      "A value is trying to be set on a copy of a slice from a DataFrame.\n",
      "Try using .loc[row_indexer,col_indexer] = value instead\n",
      "\n",
      "See the caveats in the documentation: https://pandas.pydata.org/pandas-docs/stable/user_guide/indexing.html#returning-a-view-versus-a-copy\n",
      "  new_df['tags'] = new_df['tags'].apply(lambda x:\" \".join(x) if isinstance(x, list) else x)\n"
     ]
    }
   ],
   "source": [
    "# apply lambda function for join all values in tags \n",
    "new_df['tags'] = new_df['tags'].apply(lambda x:\" \".join(x) if isinstance(x, list) else x)\n",
    "\n",
    "# Print the modified DataFrame\n",
    "print(new_df)"
   ]
  },
  {
   "cell_type": "code",
   "execution_count": 31,
   "id": "46e62047",
   "metadata": {},
   "outputs": [
    {
     "data": {
      "text/plain": [
       "'Adventure|Animation|Children|Comedy|Fantasy4.5'"
      ]
     },
     "execution_count": 31,
     "metadata": {},
     "output_type": "execute_result"
    }
   ],
   "source": [
    "# after join  \n",
    "new_df['tags'][2]"
   ]
  },
  {
   "cell_type": "code",
   "execution_count": 32,
   "id": "707213ae",
   "metadata": {},
   "outputs": [
    {
     "data": {
      "text/html": [
       "<div>\n",
       "<style scoped>\n",
       "    .dataframe tbody tr th:only-of-type {\n",
       "        vertical-align: middle;\n",
       "    }\n",
       "\n",
       "    .dataframe tbody tr th {\n",
       "        vertical-align: top;\n",
       "    }\n",
       "\n",
       "    .dataframe thead th {\n",
       "        text-align: right;\n",
       "    }\n",
       "</style>\n",
       "<table border=\"1\" class=\"dataframe\">\n",
       "  <thead>\n",
       "    <tr style=\"text-align: right;\">\n",
       "      <th></th>\n",
       "      <th>userId</th>\n",
       "      <th>title</th>\n",
       "      <th>tags</th>\n",
       "    </tr>\n",
       "  </thead>\n",
       "  <tbody>\n",
       "    <tr>\n",
       "      <th>33344</th>\n",
       "      <td>448</td>\n",
       "      <td>Money Talks (1997)</td>\n",
       "      <td>Action|Comedy3.0</td>\n",
       "    </tr>\n",
       "    <tr>\n",
       "      <th>79306</th>\n",
       "      <td>354</td>\n",
       "      <td>Island, The (2005)</td>\n",
       "      <td>Action|Sci-Fi|Thriller4.5</td>\n",
       "    </tr>\n",
       "    <tr>\n",
       "      <th>3655</th>\n",
       "      <td>265</td>\n",
       "      <td>Taxi Driver (1976)</td>\n",
       "      <td>Crime|Drama|Thriller3.0</td>\n",
       "    </tr>\n",
       "    <tr>\n",
       "      <th>78286</th>\n",
       "      <td>232</td>\n",
       "      <td>Constantine (2005)</td>\n",
       "      <td>Action|Fantasy|Horror|Thriller3.0</td>\n",
       "    </tr>\n",
       "    <tr>\n",
       "      <th>45733</th>\n",
       "      <td>288</td>\n",
       "      <td>Star Wars: Episode I - The Phantom Menace (1999)</td>\n",
       "      <td>Action|Adventure|Sci-Fi4.0</td>\n",
       "    </tr>\n",
       "  </tbody>\n",
       "</table>\n",
       "</div>"
      ],
      "text/plain": [
       "       userId                                             title  \\\n",
       "33344     448                                Money Talks (1997)   \n",
       "79306     354                                Island, The (2005)   \n",
       "3655      265                                Taxi Driver (1976)   \n",
       "78286     232                                Constantine (2005)   \n",
       "45733     288  Star Wars: Episode I - The Phantom Menace (1999)   \n",
       "\n",
       "                                    tags  \n",
       "33344                   Action|Comedy3.0  \n",
       "79306          Action|Sci-Fi|Thriller4.5  \n",
       "3655             Crime|Drama|Thriller3.0  \n",
       "78286  Action|Fantasy|Horror|Thriller3.0  \n",
       "45733         Action|Adventure|Sci-Fi4.0  "
      ]
     },
     "execution_count": 32,
     "metadata": {},
     "output_type": "execute_result"
    }
   ],
   "source": [
    "new_df.sample(5)"
   ]
  },
  {
   "cell_type": "code",
   "execution_count": 33,
   "id": "63ca53b9",
   "metadata": {
    "scrolled": true
   },
   "outputs": [
    {
     "name": "stdout",
     "output_type": "stream",
     "text": [
      "       userId                 title  \\\n",
      "0           1      Toy Story (1995)   \n",
      "1           5      Toy Story (1995)   \n",
      "2           7      Toy Story (1995)   \n",
      "3          15      Toy Story (1995)   \n",
      "4          17      Toy Story (1995)   \n",
      "...       ...                   ...   \n",
      "96688     560  The Big Short (2015)   \n",
      "96689     564  The Big Short (2015)   \n",
      "96690     567  The Big Short (2015)   \n",
      "96691     599  The Big Short (2015)   \n",
      "96692     610  The Big Short (2015)   \n",
      "\n",
      "                                                 tags  \n",
      "0      adventure|animation|children|comedy|fantasy4.0  \n",
      "1      adventure|animation|children|comedy|fantasy4.0  \n",
      "2      adventure|animation|children|comedy|fantasy4.5  \n",
      "3      adventure|animation|children|comedy|fantasy2.5  \n",
      "4      adventure|animation|children|comedy|fantasy4.5  \n",
      "...                                               ...  \n",
      "96688                                        drama4.5  \n",
      "96689                                        drama3.5  \n",
      "96690                                        drama3.0  \n",
      "96691                                        drama3.0  \n",
      "96692                                        drama4.0  \n",
      "\n",
      "[96693 rows x 3 columns]\n"
     ]
    },
    {
     "name": "stderr",
     "output_type": "stream",
     "text": [
      "C:\\Users\\ayesh\\AppData\\Local\\Temp\\ipykernel_14900\\270968219.py:2: SettingWithCopyWarning: \n",
      "A value is trying to be set on a copy of a slice from a DataFrame.\n",
      "Try using .loc[row_indexer,col_indexer] = value instead\n",
      "\n",
      "See the caveats in the documentation: https://pandas.pydata.org/pandas-docs/stable/user_guide/indexing.html#returning-a-view-versus-a-copy\n",
      "  new_df['tags'] = new_df['tags'].apply(lambda x: x.lower() if isinstance(x, str) else x)\n"
     ]
    }
   ],
   "source": [
    "# Apply lambda function using .loc to avoid SettingWithCopyWarning\n",
    "new_df['tags'] = new_df['tags'].apply(lambda x: x.lower() if isinstance(x, str) else x)\n",
    "\n",
    "# Print the modified DataFrame\n",
    "print(new_df)"
   ]
  },
  {
   "cell_type": "code",
   "execution_count": 34,
   "id": "6a20ea9b",
   "metadata": {},
   "outputs": [
    {
     "data": {
      "text/html": [
       "<div>\n",
       "<style scoped>\n",
       "    .dataframe tbody tr th:only-of-type {\n",
       "        vertical-align: middle;\n",
       "    }\n",
       "\n",
       "    .dataframe tbody tr th {\n",
       "        vertical-align: top;\n",
       "    }\n",
       "\n",
       "    .dataframe thead th {\n",
       "        text-align: right;\n",
       "    }\n",
       "</style>\n",
       "<table border=\"1\" class=\"dataframe\">\n",
       "  <thead>\n",
       "    <tr style=\"text-align: right;\">\n",
       "      <th></th>\n",
       "      <th>userId</th>\n",
       "      <th>title</th>\n",
       "      <th>tags</th>\n",
       "    </tr>\n",
       "  </thead>\n",
       "  <tbody>\n",
       "    <tr>\n",
       "      <th>0</th>\n",
       "      <td>1</td>\n",
       "      <td>Toy Story (1995)</td>\n",
       "      <td>adventure|animation|children|comedy|fantasy4.0</td>\n",
       "    </tr>\n",
       "    <tr>\n",
       "      <th>1</th>\n",
       "      <td>5</td>\n",
       "      <td>Toy Story (1995)</td>\n",
       "      <td>adventure|animation|children|comedy|fantasy4.0</td>\n",
       "    </tr>\n",
       "    <tr>\n",
       "      <th>2</th>\n",
       "      <td>7</td>\n",
       "      <td>Toy Story (1995)</td>\n",
       "      <td>adventure|animation|children|comedy|fantasy4.5</td>\n",
       "    </tr>\n",
       "    <tr>\n",
       "      <th>3</th>\n",
       "      <td>15</td>\n",
       "      <td>Toy Story (1995)</td>\n",
       "      <td>adventure|animation|children|comedy|fantasy2.5</td>\n",
       "    </tr>\n",
       "  </tbody>\n",
       "</table>\n",
       "</div>"
      ],
      "text/plain": [
       "   userId             title                                            tags\n",
       "0       1  Toy Story (1995)  adventure|animation|children|comedy|fantasy4.0\n",
       "1       5  Toy Story (1995)  adventure|animation|children|comedy|fantasy4.0\n",
       "2       7  Toy Story (1995)  adventure|animation|children|comedy|fantasy4.5\n",
       "3      15  Toy Story (1995)  adventure|animation|children|comedy|fantasy2.5"
      ]
     },
     "execution_count": 34,
     "metadata": {},
     "output_type": "execute_result"
    }
   ],
   "source": [
    "new_df.head(4)"
   ]
  },
  {
   "cell_type": "code",
   "execution_count": 35,
   "id": "2a7d57d8",
   "metadata": {},
   "outputs": [],
   "source": [
    "from nltk.stem import PorterStemmer\n",
    "\n",
    "# Create an instance of the Porter Stemmer\n",
    "ps = PorterStemmer()"
   ]
  },
  {
   "cell_type": "code",
   "execution_count": 36,
   "id": "383173cc",
   "metadata": {},
   "outputs": [],
   "source": [
    "ps = PorterStemmer()"
   ]
  },
  {
   "cell_type": "code",
   "execution_count": 37,
   "id": "f4329818",
   "metadata": {},
   "outputs": [],
   "source": [
    "# apply stemmer because one word repeated\n",
    "def stem(text):\n",
    "    y = []\n",
    "    for i in text.split():\n",
    "        y.append(ps.stem(i))\n",
    "        \n",
    "    return \" \".join(y)"
   ]
  },
  {
   "cell_type": "code",
   "execution_count": 45,
   "id": "be362872",
   "metadata": {},
   "outputs": [],
   "source": [
    "new_df = new_df.copy()\n",
    "new_df['tags'] = new_df['tags'].apply(lambda x: stem(x))"
   ]
  },
  {
   "cell_type": "code",
   "execution_count": 39,
   "id": "0802e800",
   "metadata": {},
   "outputs": [
    {
     "name": "stdout",
     "output_type": "stream",
     "text": [
      "Defaulting to user installation because normal site-packages is not writeable\n",
      "Requirement already satisfied: scikit-learn in c:\\programdata\\anaconda3\\lib\\site-packages (1.2.1)\n",
      "Requirement already satisfied: threadpoolctl>=2.0.0 in c:\\programdata\\anaconda3\\lib\\site-packages (from scikit-learn) (2.2.0)\n",
      "Requirement already satisfied: scipy>=1.3.2 in c:\\programdata\\anaconda3\\lib\\site-packages (from scikit-learn) (1.10.0)\n",
      "Requirement already satisfied: numpy>=1.17.3 in c:\\programdata\\anaconda3\\lib\\site-packages (from scikit-learn) (1.23.5)\n",
      "Requirement already satisfied: joblib>=1.1.1 in c:\\programdata\\anaconda3\\lib\\site-packages (from scikit-learn) (1.1.1)\n"
     ]
    }
   ],
   "source": [
    "!pip install scikit-learn"
   ]
  },
  {
   "cell_type": "code",
   "execution_count": 40,
   "id": "6daa4a53",
   "metadata": {},
   "outputs": [],
   "source": [
    "from sklearn.feature_extraction.text import CountVectorizer\n",
    "\n",
    "# Create an instance of CountVectorizer\n",
    "cv = CountVectorizer(max_features=5000, stop_words=\"english\")"
   ]
  },
  {
   "cell_type": "code",
   "execution_count": 41,
   "id": "14c54b5a",
   "metadata": {
    "scrolled": true
   },
   "outputs": [],
   "source": [
    "# conver all movie for vector form\n",
    "cv = CountVectorizer(max_features=5000,stop_words=\"english\")"
   ]
  },
  {
   "cell_type": "code",
   "execution_count": 46,
   "id": "babd29c0",
   "metadata": {},
   "outputs": [],
   "source": [
    "from sklearn.feature_extraction.text import CountVectorizer\n",
    "\n",
    "custom_stop_words = [\"stopword1\", \"stopword2\", \"stopword3\"]  # Replace with your custom stopwords\n",
    "\n",
    "# Create an instance of CountVectorizer with custom stop words\n",
    "cv = CountVectorizer(max_features=5000, stop_words=custom_stop_words, lowercase=True, token_pattern=r'\\b\\w+\\b')\n",
    "\n",
    "# Fit and transform the 'tags' data\n",
    "vector = cv.fit_transform(new_df['tags']).toarray()"
   ]
  },
  {
   "cell_type": "code",
   "execution_count": 47,
   "id": "bc0bb7b1",
   "metadata": {
    "scrolled": true
   },
   "outputs": [],
   "source": [
    "vector = cv.fit_transform(new_df['tags']).toarray()"
   ]
  },
  {
   "cell_type": "code",
   "execution_count": 48,
   "id": "0bd01d2c",
   "metadata": {},
   "outputs": [
    {
     "data": {
      "text/plain": [
       "array([[1, 0, 0, ..., 0, 0, 0],\n",
       "       [1, 0, 0, ..., 0, 0, 0],\n",
       "       [0, 1, 0, ..., 0, 0, 0],\n",
       "       ...,\n",
       "       [1, 0, 0, ..., 0, 0, 0],\n",
       "       [1, 0, 0, ..., 0, 0, 0],\n",
       "       [1, 0, 0, ..., 0, 0, 0]], dtype=int64)"
      ]
     },
     "execution_count": 48,
     "metadata": {},
     "output_type": "execute_result"
    }
   ],
   "source": [
    "vector"
   ]
  },
  {
   "cell_type": "code",
   "execution_count": 49,
   "id": "ed5cf4b1",
   "metadata": {},
   "outputs": [
    {
     "name": "stdout",
     "output_type": "stream",
     "text": [
      "['0' '5' 'action' 'action0' 'action1' 'action2' 'action3' 'action4'\n",
      " 'action5' 'adventure']\n"
     ]
    }
   ],
   "source": [
    "# Get feature names\n",
    "feature_names = cv.get_feature_names_out()\n",
    "\n",
    "# Print the first few feature names\n",
    "print(feature_names[:10])  # Replace 10 with the number of feature names you want to display"
   ]
  },
  {
   "cell_type": "code",
   "execution_count": 50,
   "id": "1b8d6601",
   "metadata": {},
   "outputs": [],
   "source": [
    "feature_names = cv.get_feature_names_out()"
   ]
  },
  {
   "cell_type": "code",
   "execution_count": 51,
   "id": "4f097747",
   "metadata": {},
   "outputs": [],
   "source": [
    "# create Recommender function\n",
    "def recommend(movie):\n",
    "    movie_index = new_df[new_df['title'] == movie].index[0]\n",
    "    distances = similarty[movie_index]\n",
    "    movies_list = sorted(list(enumerate(distances)),reverse=True,key=lambda x:x[1])[1:6]\n",
    "    \n",
    "    for i in movies_list:\n",
    "        print(new_df.iloc[i[0]] .title)\n",
    "    return"
   ]
  },
  {
   "cell_type": "code",
   "execution_count": 52,
   "id": "91f0178f",
   "metadata": {},
   "outputs": [],
   "source": [
    "def recommend(movie):\n",
    "    try:\n",
    "        movie_index = new_df[new_df['title'] == movie].index[0]\n",
    "        distances = similarity[movie_index]\n",
    "        movies_list = sorted(list(enumerate(distances)), reverse=True, key=lambda x: x[1])[1:6]\n",
    "        recommended_movies = []\n",
    "        for i in movies_list:\n",
    "            movie_id = new_df.iloc[i[0]].movie_id\n",
    "            recommended_movies.append(get_title_from_id(movie_id))\n",
    "        return recommended_movies\n",
    "    except IndexError:\n",
    "        return f\"'{movie}' Avatar\"\n"
   ]
  },
  {
   "cell_type": "code",
   "execution_count": 53,
   "id": "81d646e9",
   "metadata": {},
   "outputs": [],
   "source": [
    "def recommend(movie):\n",
    "    try:\n",
    "        movie_index = new_df[new_df['title'] == movie].index[0]\n",
    "        distances = similarity[movie_index]\n",
    "        movies_list = sorted(list(enumerate(distances)), reverse=True, key=lambda x: x[1])[1:6]\n",
    "        recommended_movies = []\n",
    "        for i in movies_list:\n",
    "            movie_id = new_df.iloc[i[0]].movie_id\n",
    "            recommended_movies.append(get_title_from_id(movie_id))\n",
    "        return recommended_movies\n",
    "    except IndexError:\n",
    "        return f\"'{movie}' Batman Begins \""
   ]
  },
  {
   "cell_type": "code",
   "execution_count": 54,
   "id": "9d56a1ce",
   "metadata": {},
   "outputs": [],
   "source": [
    "def recommend(movie):\n",
    "    try:\n",
    "        movie_index = new_df[new_df['title'] == movie].index[0]\n",
    "        distances = similarity[movie_index]\n",
    "        movies_list = sorted(list(enumerate(distances)), reverse=True, key=lambda x: x[1])[1:6]\n",
    "        recommended_movies = []\n",
    "        for i in movies_list:\n",
    "            movie_id = new_df.iloc[i[0]].movie_id\n",
    "            recommended_movies.append(get_title_from_id(movie_id))\n",
    "        return recommended_movies\n",
    "    except IndexError:\n",
    "        return f\"'{movie}' April Fool's Day\"\n"
   ]
  },
  {
   "cell_type": "code",
   "execution_count": 55,
   "id": "1773e2e3",
   "metadata": {},
   "outputs": [],
   "source": [
    "def recommend(movie):\n",
    "    try:\n",
    "        movie_index = new_df[new_df['title'] == movie].index[0]\n",
    "        distances = similarity[movie_index]\n",
    "        movies_list = sorted(list(enumerate(distances)), reverse=True, key=lambda x: x[1])[1:6]\n",
    "        recommended_movies = []\n",
    "        for i in movies_list:\n",
    "            movie_id = new_df.iloc[i[0]].movie_id\n",
    "            recommended_movies.append(get_title_from_id(movie_id))\n",
    "        return recommended_movies\n",
    "    except IndexError:\n",
    "        return f\"'{movie}'Witless Protection\"\n"
   ]
  },
  {
   "cell_type": "code",
   "execution_count": 56,
   "id": "8dd231f6",
   "metadata": {},
   "outputs": [
    {
     "data": {
      "text/html": [
       "<div>\n",
       "<style scoped>\n",
       "    .dataframe tbody tr th:only-of-type {\n",
       "        vertical-align: middle;\n",
       "    }\n",
       "\n",
       "    .dataframe tbody tr th {\n",
       "        vertical-align: top;\n",
       "    }\n",
       "\n",
       "    .dataframe thead th {\n",
       "        text-align: right;\n",
       "    }\n",
       "</style>\n",
       "<table border=\"1\" class=\"dataframe\">\n",
       "  <thead>\n",
       "    <tr style=\"text-align: right;\">\n",
       "      <th></th>\n",
       "      <th>userId</th>\n",
       "      <th>title</th>\n",
       "      <th>tags</th>\n",
       "    </tr>\n",
       "  </thead>\n",
       "  <tbody>\n",
       "    <tr>\n",
       "      <th>65459</th>\n",
       "      <td>105</td>\n",
       "      <td>40 Days and 40 Nights (2002)</td>\n",
       "      <td>comedy|romance3.0</td>\n",
       "    </tr>\n",
       "    <tr>\n",
       "      <th>44078</th>\n",
       "      <td>88</td>\n",
       "      <td>¡Three Amigos! (1986)</td>\n",
       "      <td>comedy|western3.5</td>\n",
       "    </tr>\n",
       "    <tr>\n",
       "      <th>52216</th>\n",
       "      <td>414</td>\n",
       "      <td>Hurricane, The (1999)</td>\n",
       "      <td>drama4.0</td>\n",
       "    </tr>\n",
       "    <tr>\n",
       "      <th>4168</th>\n",
       "      <td>377</td>\n",
       "      <td>Apollo 13 (1995)</td>\n",
       "      <td>adventure|drama|imax5.0</td>\n",
       "    </tr>\n",
       "    <tr>\n",
       "      <th>54764</th>\n",
       "      <td>156</td>\n",
       "      <td>Odd Couple, The (1968)</td>\n",
       "      <td>comedy4.0</td>\n",
       "    </tr>\n",
       "    <tr>\n",
       "      <th>989</th>\n",
       "      <td>302</td>\n",
       "      <td>Sense and Sensibility (1995)</td>\n",
       "      <td>drama|romance5.0</td>\n",
       "    </tr>\n",
       "    <tr>\n",
       "      <th>13236</th>\n",
       "      <td>452</td>\n",
       "      <td>Jurassic Park (1993)</td>\n",
       "      <td>action|adventure|sci-fi|thriller4.0</td>\n",
       "    </tr>\n",
       "    <tr>\n",
       "      <th>62498</th>\n",
       "      <td>380</td>\n",
       "      <td>Jurassic Park III (2001)</td>\n",
       "      <td>action|adventure|sci-fi|thriller4.0</td>\n",
       "    </tr>\n",
       "    <tr>\n",
       "      <th>53081</th>\n",
       "      <td>239</td>\n",
       "      <td>Boondock Saints, The (2000)</td>\n",
       "      <td>action|crime|drama|thriller5.0</td>\n",
       "    </tr>\n",
       "    <tr>\n",
       "      <th>67502</th>\n",
       "      <td>66</td>\n",
       "      <td>Spirited Away (Sen to Chihiro no kamikakushi) ...</td>\n",
       "      <td>adventure|animation|fantasy4.5</td>\n",
       "    </tr>\n",
       "  </tbody>\n",
       "</table>\n",
       "</div>"
      ],
      "text/plain": [
       "       userId                                              title  \\\n",
       "65459     105                       40 Days and 40 Nights (2002)   \n",
       "44078      88                              ¡Three Amigos! (1986)   \n",
       "52216     414                              Hurricane, The (1999)   \n",
       "4168      377                                   Apollo 13 (1995)   \n",
       "54764     156                             Odd Couple, The (1968)   \n",
       "989       302                       Sense and Sensibility (1995)   \n",
       "13236     452                               Jurassic Park (1993)   \n",
       "62498     380                           Jurassic Park III (2001)   \n",
       "53081     239                        Boondock Saints, The (2000)   \n",
       "67502      66  Spirited Away (Sen to Chihiro no kamikakushi) ...   \n",
       "\n",
       "                                      tags  \n",
       "65459                    comedy|romance3.0  \n",
       "44078                    comedy|western3.5  \n",
       "52216                             drama4.0  \n",
       "4168               adventure|drama|imax5.0  \n",
       "54764                            comedy4.0  \n",
       "989                       drama|romance5.0  \n",
       "13236  action|adventure|sci-fi|thriller4.0  \n",
       "62498  action|adventure|sci-fi|thriller4.0  \n",
       "53081       action|crime|drama|thriller5.0  \n",
       "67502       adventure|animation|fantasy4.5  "
      ]
     },
     "execution_count": 56,
     "metadata": {},
     "output_type": "execute_result"
    }
   ],
   "source": [
    "new_df.sample(10)"
   ]
  }
 ],
 "metadata": {
  "kernelspec": {
   "display_name": "Python 3 (ipykernel)",
   "language": "python",
   "name": "python3"
  },
  "language_info": {
   "codemirror_mode": {
    "name": "ipython",
    "version": 3
   },
   "file_extension": ".py",
   "mimetype": "text/x-python",
   "name": "python",
   "nbconvert_exporter": "python",
   "pygments_lexer": "ipython3",
   "version": "3.10.9"
  }
 },
 "nbformat": 4,
 "nbformat_minor": 5
}
